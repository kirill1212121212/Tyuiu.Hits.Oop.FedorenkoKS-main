{
 "cells": [
  {
   "cell_type": "markdown",
   "metadata": {},
   "source": [
    "<h1 style=\"color:DodgerBlue\">Индивидуальный проект</h1>"
   ]
  },
  {
   "cell_type": "markdown",
   "metadata": {},
   "source": [
    "<h2 style=\"color:DodgerBlue\">Название проекта: индивидуальный проект</h2>\n",
    "\n",
    "---\n",
    "\n",
    "### Вариант задания № 1\n",
    "\n"
   ]
  },
  {
   "cell_type": "markdown",
   "metadata": {},
   "source": [
    "<h2 style=\"color:DodgerBlue\">Описание проекта:</h2>\n",
    "\n",
    "----\n",
    "Создать базовый класс Person в C#, который будет представлять информацию о\n",
    "человеке. На основе этого класса разработать 2-3 производных класса,\n",
    "демонстрирующих принципы наследования и полиморфизма. В каждом из классов\n",
    "должны быть реализованы новые атрибуты и методы, а также переопределены\n",
    "некоторые методы базового класса для демонстрации полиморфизма.\n",
    "\n",
    "Требования к базовому классу Person:\n",
    "• Атрибуты: Имя (Name), Возраст (Age), Пол (Gender).\n",
    "• Методы:\n",
    "o GetInfo(): метод для получения информации о человеке в виде строки.\n",
    "o SayHello(): метод для вывода приветствия от человека.\n",
    "\n",
    "Требования к производным классам:\n",
    "1. Студент (Student): Должен содержать дополнительные атрибуты, такие как\n",
    "Университет (University) и Курс (Course). Метод SayHello() должен быть\n",
    "переопределен для добавления информации о курсе при приветствии.\n",
    "2. Работник (Employee): Должен содержать дополнительные атрибуты, такие\n",
    "как Компания (Company) и Зарплата (Salary). Метод GetInfo() должен быть\n",
    "переопределен для включения информации о компании и зарплате.\n",
    "3. Преподаватель (Teacher) (если требуется третий класс): Должен содержать\n",
    "дополнительные атрибуты, такие как Предмет (Subject) и Стаж работы\n",
    "(Experience). Метод SayHello() должен быть переопределен для добавления\n",
    "информации о преподаваемом предмете при приветствии."
   ]
  },
  {
   "cell_type": "markdown",
   "metadata": {},
   "source": [
    "<h2 style=\"color:DodgerBlue\">Реализация:</h2>\n",
    "\n",
    "----"
   ]
  },
  {
   "cell_type": "code",
   "execution_count": 7,
   "metadata": {
    "dotnet_interactive": {
     "language": "csharp"
    },
    "polyglot_notebook": {
     "kernelName": "csharp"
    }
   },
   "outputs": [],
   "source": [
    "using System;\n",
    "\n",
    "namespace HelloWorld\n",
    "{\n",
    "    // Базовый класс Person\n",
    "    public class Person\n",
    "    {\n",
    "        protected string Name;\n",
    "        protected int Age;\n",
    "        protected string Gender;\n",
    "\n",
    "        // Конструктор для инициализации атрибутов\n",
    "        public Person(string name, int age, string gender)\n",
    "        {\n",
    "            Name = name;\n",
    "            Age = age;\n",
    "            Gender = gender;\n",
    "        }\n",
    "\n",
    "        // Метод для получения информации о человеке\n",
    "        public virtual string GetInfo()\n",
    "        {\n",
    "            return $\"Имя: {Name}, Возраст: {Age}, Пол: {Gender}.\";\n",
    "        }\n",
    "\n",
    "        // Метод для вывода приветствия\n",
    "        public virtual string SayHello()\n",
    "        {\n",
    "            return $\"Привет, меня зовут {Name}.\";\n",
    "        }\n",
    "    }\n",
    "\n",
    "    // Производный класс Student\n",
    "    public class Student : Person\n",
    "    {\n",
    "        private string University;\n",
    "        private int Course;\n",
    "\n",
    "        // Конструктор для инициализации атрибутов студента\n",
    "        public Student(string name, int age, string gender, string university, int course)\n",
    "            : base(name, age, gender)\n",
    "        {\n",
    "            University = university;\n",
    "            Course = course;\n",
    "        }\n",
    "\n",
    "        // Переопределение метода SayHello для студента\n",
    "        public override string SayHello()\n",
    "        {\n",
    "            return $\"Привет! Я {Name}, мне {Age} лет, пол: {Gender}, я учусь в {University}, на {Course} курсе.\";\n",
    "        }\n",
    "    }\n",
    "\n",
    "    // Производный класс Employee\n",
    "    public class Employee : Person\n",
    "    {\n",
    "        private string Company;\n",
    "        private int Salary;\n",
    "\n",
    "        // Конструктор для инициализации атрибутов работника\n",
    "        public Employee(string name, int age, string gender, string company, int salary)\n",
    "            : base(name, age, gender)\n",
    "        {\n",
    "            Company = company;\n",
    "            Salary = salary;\n",
    "        }\n",
    "\n",
    "        // Переопределение метода GetInfo для работника\n",
    "        public override string GetInfo()\n",
    "        {\n",
    "            return $\"Имя: {Name}, Возраст: {Age}, Пол: {Gender}, Компания: {Company}, Зарплата: {Salary} руб.\";\n",
    "        }\n",
    "    }\n",
    "\n",
    "    // Производный класс Teacher\n",
    "    public class Teacher : Person\n",
    "    {\n",
    "        private string Subject;\n",
    "        private int Experience;\n",
    "\n",
    "        // Конструктор для инициализации атрибутов преподавателя\n",
    "        public Teacher(string name, int age, string gender, string subject, int experience)\n",
    "            : base(name, age, gender)\n",
    "        {\n",
    "            Subject = subject;\n",
    "            Experience = experience;\n",
    "        }\n",
    "\n",
    "        // Переопределение метода SayHello для преподавателя\n",
    "        public override string SayHello()\n",
    "        {\n",
    "            return $\"Привет! Я {Name}, мне {Age} лет, пол: {Gender}, я преподаю {Subject}, стаж работы: {Experience} лет.\";\n",
    "        }\n",
    "    }\n",
    "\n",
    "    // Класс для демонстрации\n",
    "    class Program\n",
    "    {\n",
    "        static void Main(string[] args)\n",
    "        {\n",
    "            // Создаем объекты каждого класса\n",
    "            Person person = new Person(\"Кирилл\", 19, \"мужской\");\n",
    "            Student student = new Student(\"Кирилл\", 19, \"мужсой\", \"ТИУ\", 3);\n",
    "            Employee employee = new Employee(\"Кирилл\", 19, \"мужской\", \"IBS\", 2);\n",
    "            Teacher teacher = new Teacher(\"Кирилл\", 19, \"Мужской\", \"ООП\", 10);\n",
    "\n",
    "            // Выводим информацию о каждом человеке\n",
    "            Console.WriteLine(person.SayHello());\n",
    "            Console.WriteLine(person.GetInfo());\n",
    "            Console.WriteLine(student.SayHello());\n",
    "            Console.WriteLine(employee.GetInfo());\n",
    "            Console.WriteLine(teacher.SayHello());\n",
    "        }\n",
    "    }\n",
    "}\n",
    "\n"
   ]
  },
  {
   "cell_type": "code",
   "execution_count": null,
   "metadata": {},
   "outputs": [],
   "source": []
  }
 ],
 "metadata": {
  "kernelspec": {
   "display_name": ".NET (C#)",
   "language": "C#",
   "name": ".net-csharp"
  },
  "polyglot_notebook": {
   "kernelInfo": {
    "defaultKernelName": "csharp",
    "items": [
     {
      "aliases": [],
      "languageName": "csharp",
      "name": "csharp"
     }
    ]
   }
  }
 },
 "nbformat": 4,
 "nbformat_minor": 2
}
