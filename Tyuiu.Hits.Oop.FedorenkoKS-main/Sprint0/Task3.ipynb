{
 "cells": [
  {
   "cell_type": "markdown",
   "metadata": {},
   "source": [
    "<h1 style=\"color:DodgerBlue\">Индивидуальный проект</h1>"
   ]
  },
  {
   "cell_type": "markdown",
   "metadata": {},
   "source": [
    "<h2 style=\"color:DodgerBlue\">Название проекта:</h2>\n",
    "\n",
    "----\n",
    "\n",
    "### Вариант задания 17\n"
   ]
  },
  {
   "cell_type": "markdown",
   "metadata": {},
   "source": [
    "<h2 style=\"color:DodgerBlue\">Описание проекта:</h2>\n",
    "\n",
    "----\n",
    "\n",
    "Описание задачи:\n",
    "\n",
    "Создать базовый класс ShippingOption в C#, который будет представлять\n",
    "различные опции доставки. На основе этого класса разработать 2-3 производных\n",
    "класса, демонстрирующих принципы наследования и полиморфизма. В каждом из\n",
    "классов должны быть реализованы новые атрибуты и методы, а также\n",
    "переопределены некоторые методы базового класса для демонстрации\n",
    "полиморфизма.\n",
    "\n",
    "Требования к базовому классу ShippingOption:\n",
    "\n",
    "• Атрибуты: ID опции доставки (DeliveryOptionId), Название опции доставки\n",
    "(DeliveryOptionName), Стоимость доставки (Cost).\n",
    "\n",
    "• Методы:\n",
    "\n",
    "o CalculateCost(): метод для расчета стоимости доставки.\n",
    "\n",
    "o EstimateDeliveryTime(): метод для оценки времени доставки.\n",
    "\n",
    "o GetDeliveryDetails(): метод для получения деталей опции доставки.\n",
    "\n",
    "Требования к производным классам:\n",
    "\n",
    "1. СтандартнаяДоставка (StandardDelivery): Должна содержать\n",
    "дополнительные атрибуты, такие как Среднее время доставки\n",
    "(AverageDeliveryTime). Метод EstimateDeliveryTime() должен быть\n",
    "переопределен для предоставления среднего времени доставки.\n",
    "\n",
    "2. ЭкспрессДоставка (ExpressDelivery): Должна содержать дополнительные\n",
    "атрибуты, такие как Минимальное время доставки (MinDeliveryTime).\n",
    "Метод CalculateCost() должен быть переопределен для увеличения\n",
    "стоимости доставки в случае необходимости ускорения доставки.\n",
    "\n",
    "3. Самовывоз (Pickup) (если требуется третий класс): Должна содержать\n",
    "дополнительные атрибуты, такие как Адрес пункта самовывоза\n",
    "(PickupAddress). Метод GetDeliveryDetails() должен быть переопределен для\n",
    "отображения адреса пункта самовывоза.\n"
   ]
  },
  {
   "cell_type": "markdown",
   "metadata": {},
   "source": [
    "<h2 style=\"color:DodgerBlue\">Реализация:</h2>\n",
    "\n",
    "----"
   ]
  },
  {
   "cell_type": "code",
   "execution_count": 2,
   "metadata": {
    "dotnet_interactive": {
     "language": "csharp"
    },
    "polyglot_notebook": {
     "kernelName": "csharp"
    }
   },
   "outputs": [
    {
     "name": "stdout",
     "output_type": "stream",
     "text": [
      "ID клиента: 1. Тип доставки: Стандартная доставка. Стоимость: 500Р\n",
      "Среднее время доставки: 7 дней.\n",
      "\n",
      "ID клиента: 2. Тип доставки: Экспресс доставка. Стоимость: 1250Р\n",
      "Минимальное время доставки: 24 часа.\n",
      "\n",
      "ID клиента: 3. Тип доставки: Самовывоз. Стоимость: 0Р\n",
      "Адрес пункта самовывоза: Улица Тимофея Чаркова, дом 36.\n",
      "\n"
     ]
    }
   ],
   "source": [
    "public class ShippingOption\n",
    "{\n",
    "    public int DeliveryOptionId;\n",
    "    public string DeliveryOptionName;\n",
    "    public double Cost;\n",
    "\n",
    "    public ShippingOption(int id, string name, double cost)\n",
    "    {\n",
    "        DeliveryOptionId = id;\n",
    "        DeliveryOptionName = name;\n",
    "        Cost = cost;\n",
    "    }\n",
    "\n",
    "    public virtual double CalculateCost() \n",
    "    {\n",
    "        return Cost;\n",
    "    }\n",
    "\n",
    "    public virtual string EstimateDeliveryTime()\n",
    "    {\n",
    "        return \"Срок доставки неизвестен.\";\n",
    "    }\n",
    "\n",
    "    public virtual void GetDeliveryDetails()\n",
    "    {\n",
    "        Console.WriteLine($\"ID клиента: {DeliveryOptionId}. Тип доставки: {DeliveryOptionName}. Стоимость: {Cost}Р\");\n",
    "    }\n",
    "}\n",
    "\n",
    "public class StandardDelivery : ShippingOption\n",
    "{\n",
    "    public TimeSpan AverageDeliveryTime;\n",
    "\n",
    "    public StandardDelivery(int id, string name, double cost, TimeSpan averageDeliveryTime)\n",
    "        : base(id, name, cost)\n",
    "    {\n",
    "        AverageDeliveryTime = averageDeliveryTime;\n",
    "    }\n",
    "\n",
    "    public override string EstimateDeliveryTime()\n",
    "    {\n",
    "        return $\"Среднее время доставки: {AverageDeliveryTime.TotalDays} дней.\\n\";\n",
    "    }\n",
    "}\n",
    "\n",
    "public class ExpressDelivery : ShippingOption\n",
    "{\n",
    "    public TimeSpan MinDeliveryTime;\n",
    "\n",
    "    public ExpressDelivery(int id, string name, double cost, TimeSpan minDeliveryTime)\n",
    "        : base(id, name, cost)\n",
    "    {\n",
    "        MinDeliveryTime = minDeliveryTime;\n",
    "    }\n",
    "\n",
    "    public override double CalculateCost() \n",
    "    {\n",
    "        // Увеличиваем стоимость на 25% за ускоренную доставку\n",
    "        return Cost * 1.25; \n",
    "    }\n",
    "\n",
    "    public override string EstimateDeliveryTime()\n",
    "    {\n",
    "        return $\"Минимальное время доставки: {MinDeliveryTime.TotalHours} часа.\\n\";\n",
    "    }\n",
    "\n",
    "    public override void GetDeliveryDetails()\n",
    "    {\n",
    "        // Выводим только увеличенную стоимость\n",
    "        Console.WriteLine($\"ID клиента: {DeliveryOptionId}. Тип доставки: {DeliveryOptionName}. Стоимость: {CalculateCost()}Р\");\n",
    "    }\n",
    "}\n",
    "\n",
    "public class Pickup : ShippingOption\n",
    "{\n",
    "    public string PickupAddress;\n",
    "\n",
    "    public Pickup(int id, string name, double cost, string pickupAddress)\n",
    "        : base(id, name, cost)\n",
    "    {\n",
    "        PickupAddress = pickupAddress;\n",
    "    }\n",
    "\n",
    "    public override void GetDeliveryDetails()\n",
    "    {\n",
    "        base.GetDeliveryDetails();\n",
    "        Console.WriteLine ($\"Адрес пункта самовывоза: {PickupAddress}.\\n\");\n",
    "    }\n",
    "}\n",
    "\n",
    "ShippingOption standard = new StandardDelivery(1, \"Стандартная доставка\", 500.0, TimeSpan.FromDays(7));\n",
    "ShippingOption express = new ExpressDelivery(2, \"Экспресс доставка\", 1000.0, TimeSpan.FromHours(24));\n",
    "ShippingOption pickup = new Pickup(3, \"Самовывоз\", 0.0, \"Улица Тимофея Чаркова, дом 36\");\n",
    "\n",
    "standard.GetDeliveryDetails();\n",
    "Console.WriteLine(standard.EstimateDeliveryTime());\n",
    "\n",
    "express.GetDeliveryDetails();\n",
    "Console.WriteLine(express.EstimateDeliveryTime());\n",
    "\n",
    "pickup.GetDeliveryDetails();\n"
   ]
  }
 ],
 "metadata": {
  "kernelspec": {
   "display_name": ".NET (C#)",
   "language": "C#",
   "name": ".net-csharp"
  },
  "polyglot_notebook": {
   "kernelInfo": {
    "defaultKernelName": "csharp",
    "items": [
     {
      "aliases": [],
      "languageName": "csharp",
      "name": "csharp"
     }
    ]
   }
  }
 },
 "nbformat": 4,
 "nbformat_minor": 2
}
