{
 "cells": [
  {
   "cell_type": "markdown",
   "metadata": {},
   "source": [
    "<h1 style=\"color:DodgerBlue\">Индивидальный проект</h1>"
   ]
  },
  {
   "cell_type": "markdown",
   "metadata": {},
   "source": [
    "<h2 style=\"color:DodgerBlue\">Название проекта:</h2>\n",
    "\n",
    "----\n",
    "\n",
    "### Вариант задания \n"
   ]
  },
  {
   "cell_type": "markdown",
   "metadata": {},
   "source": [
    "<h2 style=\"color:DodgerBlue\">Описание проекта:</h2>\n",
    "\n",
    "----\n",
    "\n",
    "[ваш текст]\n",
    "\n",
    "#### Дополнительное задание\n",
    "Добавьте к сущестующим классам конструктора классов с использованием гетторов и сетторов и реализуйте взаимодействие объектов между собой"
   ]
  },
  {
   "cell_type": "markdown",
   "metadata": {},
   "source": [
    "<h2 style=\"color:DodgerBlue\">Реализация:</h2>\n",
    "\n",
    "----"
   ]
  },
  {
   "cell_type": "code",
   "execution_count": 5,
   "metadata": {
    "dotnet_interactive": {
     "language": "csharp"
    },
    "polyglot_notebook": {
     "kernelName": "csharp"
    }
   },
   "outputs": [],
   "source": [
    "using System;\n",
    "\n",
    "class Person\n",
    "{\n",
    "    private string name;\n",
    "    private int age;\n",
    "\n",
    "    public Person(string name, int age)\n",
    "    {\n",
    "        this.name = name;\n",
    "        this.age = age;\n",
    "    }\n",
    "\n",
    "    public string Name\n",
    "    {\n",
    "        get { return name; }\n",
    "        set { name = value; }\n",
    "    }\n",
    "\n",
    "    public int Age\n",
    "    {\n",
    "        get { return age; }\n",
    "        set { age = value; }\n",
    "    }\n",
    "\n",
    "    public void Introduce()\n",
    "    {\n",
    "        Console.WriteLine($\"Привет, меня зовут {name}, мне {age} лет.\");\n",
    "    }\n",
    "}\n",
    "\n",
    "class Car\n",
    "{\n",
    "    private string model;\n",
    "    private int year;\n",
    "\n",
    "    public Car(string model, int year)\n",
    "    {\n",
    "        this.model = model;\n",
    "        this.year = year;\n",
    "    }\n",
    "\n",
    "    public string Model\n",
    "    {\n",
    "        get { return model; }\n",
    "        set { model = value; }\n",
    "    }\n",
    "\n",
    "    public int Year\n",
    "    {\n",
    "        get { return year; }\n",
    "        set { year = value; }\n",
    "    }\n",
    "\n",
    "    public void Drive()\n",
    "    {\n",
    "        Console.WriteLine($\"Я еду на автомобиле {model} ({year})\");\n",
    "    }\n",
    "}\n",
    "\n",
    "class Program\n",
    "{\n",
    "    static void Main()\n",
    "    {\n",
    "        Person person = new Person(\"Иван\", 30);\n",
    "        Car car = new Car(\"Toyota\", 2020);\n",
    "\n",
    "        person.Introduce();\n",
    "        car.Drive();\n",
    "\n",
    "        person.Name = \"Алексей\";\n",
    "        person.Age = 25;\n",
    "        car.Model = \"Honda\";\n",
    "        car.Year = 2022;\n",
    "\n",
    "        person.Introduce();\n",
    "        car.Drive();\n",
    "    }\n",
    "}\n"
   ]
  }
 ],
 "metadata": {
  "kernelspec": {
   "display_name": ".NET (C#)",
   "language": "C#",
   "name": ".net-csharp"
  },
  "polyglot_notebook": {
   "kernelInfo": {
    "defaultKernelName": "csharp",
    "items": [
     {
      "aliases": [],
      "languageName": "csharp",
      "name": "csharp"
     }
    ]
   }
  }
 },
 "nbformat": 4,
 "nbformat_minor": 2
}
